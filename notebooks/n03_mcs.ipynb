{
 "cells": [
  {
   "cell_type": "markdown",
   "metadata": {},
   "source": [
    "# Introduction to Monte Carlo Simulation in Finance"
   ]
  },
  {
   "cell_type": "markdown",
   "metadata": {},
   "source": [
    "## Example: A Crude Simulation of a Call Option Price under the Black-Scholes Model"
   ]
  },
  {
   "cell_type": "markdown",
   "metadata": {},
   "source": [
    "Ref.: *Don L. McLeish* **Monte Carlo Simulation and Finance** Wiley"
   ]
  },
  {
   "cell_type": "markdown",
   "metadata": {},
   "source": [
    "<img src=\"img/cover_mcleish.jpg\" width=\"10%\" align=\"left\" border=\"0\">"
   ]
  },
  {
   "cell_type": "code",
   "execution_count": 2,
   "metadata": {
    "collapsed": true
   },
   "outputs": [],
   "source": [
    "%matplotlib inline\n",
    "\n",
    "import numpy as np\n",
    "import scipy as sc\n",
    "\n",
    "from math        import sqrt\n",
    "from scipy.stats import norm as scnorm\n",
    "from pylab       import *\n",
    "from matplotlib  import pyplot as pl\n"
   ]
  },
  {
   "cell_type": "markdown",
   "metadata": {},
   "source": [
    "It's worth to recast the pricing problem into a simple integral formulation in order to gain some insight into the general problem;\n",
    "\\item So let's consider again the payoff of a simple plain vanilla option\n",
    "$$e^{-rT} \\mathbb{E^Q} [ h(S_T) ] = e^{-rT} \\mathbb{E^Q} \\left[ h \\left( S_0 e^{\\log(S_T/S_0)} \\right) \\right]$$\n",
    "\n",
    "By a simple application of Ito's lemma is easy to demonstrate that the variable $X = \\log(S_T/S_0)$ has a normal distribution with mean $m=(r-\\frac{1}{2} \\sigma^2)T$ and variance $s=\\sigma^2T$.\n",
    "\n",
    "So we can write\n",
    "$$ C(S,t)= e^{-rT}S_0 \\int\\limits_0^{+\\infty} \\max[ e^X-K,0] e^{-\\frac{(X-m)^2}{2s^2}} dX  $$"
   ]
  },
  {
   "cell_type": "markdown",
   "metadata": {},
   "source": [
    "Let's now recall the fundamental **probability integral transform** which relates to the result that data values that are modelled as being random variables from any given continuous distribution can be converted to random variables having a uniform distribution\n",
    "\n",
    "This result states that if a random variable $X$ has a continuous distribution for which the cumulative distribution function (CDF) is $F_X$. Then the random variable $Y$ defined as\n",
    "\n",
    "$$ Y = F_X(X)$$\n",
    "\n",
    "has a uniform distribution;"
   ]
  },
  {
   "cell_type": "markdown",
   "metadata": {},
   "source": [
    "This means that, in our case, we can say that the variable\n",
    "\n",
    "$$u = \\Phi[X;m,u], \\quad u\\rightarrow 1 \\, when \\, X \\rightarrow +\\infty$$\n",
    "\n",
    "has a uniform distribution;\n",
    "\n",
    "From the previous relation we find (within a normalization factor)\n",
    "\n",
    "$$du = \\frac{d\\Phi[X;m,u]}{dX} dX  \\Rightarrow dX = \\frac{1}{e^{-\\frac{(X-m)^2}{2s^2}}}du$$\n",
    "\n",
    "Finally we can write our integral in the form\n",
    "\n",
    "$$\n",
    "C(S,t) = \\int\\limits_0^1 f(u) du$$\n",
    "where $f(u) = e^{-rT} \\max[S_0 \\exp(\\Phi^{-1}(u; m,s)) - K,0] $"
   ]
  },
  {
   "cell_type": "code",
   "execution_count": 3,
   "metadata": {
    "collapsed": true
   },
   "outputs": [],
   "source": [
    "def f(u, S0, K, r, sigma, T):\n",
    "    m      = (r - .5*sigma*sigma)*T\n",
    "    s      = sigma*sqrt(T)\n",
    "    f_u    = exp(-r*T)*np.maximum(S0*exp(scnorm.ppf(u, m, s))-K,0)\n",
    "    return f_u    "
   ]
  },
  {
   "cell_type": "markdown",
   "metadata": {},
   "source": [
    "where scnorm.ppf is the [inverse of cumulative normal](http://docs.scipy.org/doc/scipy-0.16.0/reference/generated/scipy.stats.norm.html)\n",
    "\n",
    "We recall the Black and Scholes formulas from the pricing of Call and Put Options..."
   ]
  },
  {
   "cell_type": "markdown",
   "metadata": {},
   "source": [
    "$C(S(t)) = S(t)N(d_1)-Ke^{-r(T-t)}N(d_2)$\n",
    "\n",
    "$P(S(t)) = Ke^{-r(T-t)}N(-d_2) - S(t)N(-d_1)$\n",
    "\n",
    "where\n",
    "\n",
    "$d_1=\\frac{\\log(S(t)/K)+(r+\\sigma^2/2}{\\sigma \\sqrt{T}}$ \n",
    "\n",
    "$d_2 = d_1 - \\sigma \\sqrt{T}$"
   ]
  },
  {
   "cell_type": "code",
   "execution_count": 4,
   "metadata": {
    "collapsed": true
   },
   "outputs": [],
   "source": [
    "def BlackSholes(CallPutFlag,S,X,T,r,v):\n",
    "    d1 = (log(S/X)+(r+v*v/2.)*T)/(v*sqrt(T))\n",
    "    d2 = d1-v*sqrt(T)\n",
    "    if CallPutFlag=='c':\n",
    "        return S*scnorm.cdf(d1)-X*exp(-r*T)*scnorm.cdf(d2)\n",
    "    else:\n",
    "        return X*exp(-r*T)*scnorm.cdf(-d2)-S*scnorm.cdf(-d1)"
   ]
  },
  {
   "cell_type": "code",
   "execution_count": 8,
   "metadata": {
    "collapsed": false
   },
   "outputs": [
    {
     "data": {
      "image/png": "[encoded data removed]",
      "text/plain": [
       "<matplotlib.figure.Figure at 0x1a5c9ba8>"
      ]
     },
     "metadata": {},
     "output_type": "display_data"
    }
   ],
   "source": [
    "\n",
    "S0     = 10\n",
    "K      = 10\n",
    "r      = 0.02\n",
    "T      = 0.25\n",
    "sigma  = 0.2\n",
    "\n",
    "\n",
    "u      = np.linspace(0, 1, 10000)\n",
    "f_u    = f(u,S0,K,r,sigma,T)\n",
    "\n",
    "pl.plot(u, f_u)\n",
    "pl.show()\n"
   ]
  },
  {
   "cell_type": "code",
   "execution_count": 6,
   "metadata": {
    "collapsed": false
   },
   "outputs": [
    {
     "name": "stdout",
     "output_type": "stream",
     "text": [
      "0.423215976807\n"
     ]
    }
   ],
   "source": [
    "print BlackSholes('c',S0,K,T,r,sigma)"
   ]
  },
  {
   "cell_type": "code",
   "execution_count": 9,
   "metadata": {
    "collapsed": false
   },
   "outputs": [
    {
     "name": "stdout",
     "output_type": "stream",
     "text": [
      "0.422541651147\n"
     ]
    }
   ],
   "source": [
    "u      = rand(1000000)\n",
    "f_u    = f(u,S0,K,r,sigma,T)\n",
    "\n",
    "print mean(f_u)"
   ]
  },
  {
   "cell_type": "code",
   "execution_count": null,
   "metadata": {
    "collapsed": true
   },
   "outputs": [],
   "source": []
  }
 ],
 "metadata": {
  "kernelspec": {
   "display_name": "Python 2",
   "language": "python",
   "name": "python2"
  },
  "language_info": {
   "codemirror_mode": {
    "name": "ipython",
    "version": 2
   },
   "file_extension": ".py",
   "mimetype": "text/x-python",
   "name": "python",
   "nbconvert_exporter": "python",
   "pygments_lexer": "ipython2",
   "version": "2.7.10"
  }
 },
 "nbformat": 4,
 "nbformat_minor": 0
}
