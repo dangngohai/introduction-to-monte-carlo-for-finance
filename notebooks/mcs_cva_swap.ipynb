{
 "cells": [
  {
   "cell_type": "markdown",
   "metadata": {},
   "source": [
    "# Introduction to Monte Carlo Simulation in Finance\n",
    "\n",
    "## Derivatives CVA calculation example Monte-Carlo with python"
   ]
  },
  {
   "cell_type": "markdown",
   "metadata": {},
   "source": [
    "Here we'll show an example of code for CVA calculation (Credit Valuation Adjustment) using python with simple Monte-Carlo method with portfolio consisting just of a single interest rate swap.It's easy to generalize code to include more financial instruments.\n",
    "\n",
    "#### CVA calculation algorithm:\n",
    "\n",
    "1) Simulate yield curve at future dates\n",
    "\n",
    "2) Calculate your derivatives portfolio NPV (net present value) at each time point for each scenario\n",
    "\n",
    "3) Calculate CVA as sum of Expected Exposure multiplied by probability of default at this interval\n",
    "\n",
    "$$ CVA=(1−R) \\int DF(t)EE(t)dQ_t $$\n",
    "\n",
    "where $R$ is the Recovery Rate (normally set to 40%) $EE(t)$ is the expected exposure at time $t$ and $dQ_t$ the survival probability density, $DF(t)$ is the discount factor at time $t$.\n",
    "\n",
    "#### Outline\n",
    "\n",
    "1. In this simple example we will use Hull White model to generate future yield curves. In practice many banks use some yield curve evolution models based on this model. As you can see in the slides, in Hull White model the short rate $r_t$ is distributed normally with known mean and variance.\n",
    "\n",
    "2. For each point of time we will generate whole yield curve based on short rate. Then we will price our interest rate swap on each of these curves;\n",
    "\n",
    "3. to approximate CVA we will use BASEL III formula for regulatory capital charge approximating default probability [or survival probability ] as $exp(-S_T/(1-R))$ so we get\n",
    "\n",
    "$$\n",
    "CVA=(1−R) \\sum\\limits_i \\frac{EE(T_i)^\\star + EE(T_{i−1}^\\star}{2}\n",
    "\\left( e^{−S(T_{i−1})/(1−R)}−e^{−S(T_i)/(1−R)} \\right)\n",
    "$$\n",
    "where $EE^\\star$ is the discounted Expected Exposure of portfolio.\n",
    "\n",
    "#### Details\n",
    "\n",
    "For this first example we'll take 2% flat forward yield curve. "
   ]
  },
  {
   "cell_type": "code",
   "execution_count": null,
   "metadata": {
    "collapsed": true
   },
   "outputs": [],
   "source": []
  }
 ],
 "metadata": {
  "kernelspec": {
   "display_name": "Python 2",
   "language": "python",
   "name": "python2"
  },
  "language_info": {
   "codemirror_mode": {
    "name": "ipython",
    "version": 2
   },
   "file_extension": ".py",
   "mimetype": "text/x-python",
   "name": "python",
   "nbconvert_exporter": "python",
   "pygments_lexer": "ipython2",
   "version": "2.7.10"
  }
 },
 "nbformat": 4,
 "nbformat_minor": 0
}
