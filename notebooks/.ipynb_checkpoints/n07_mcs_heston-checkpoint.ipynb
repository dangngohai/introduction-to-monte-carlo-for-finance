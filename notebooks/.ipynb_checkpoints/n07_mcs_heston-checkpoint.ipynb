{
 "cells": [
  {
   "cell_type": "code",
   "execution_count": 58,
   "metadata": {
    "collapsed": false
   },
   "outputs": [],
   "source": [
    "%matplotlib inline\n",
    "\n",
    "from pylab import *\n",
    "from matplotlib import pyplot as pl\n",
    "from BCC_option_valuation import H93_call_value\n",
    "\n",
    "import numpy as np\n"
   ]
  },
  {
   "cell_type": "markdown",
   "metadata": {},
   "source": [
    "## The Heston Model and Its Simulation\n",
    "\n",
    "##### from Yves Hilpisch \"Derivatives Analytics with Python\" Wiley Finance (2015) \n",
    "(in my personal opinion, one of the most useful books in quantitative finance of recent years)\n",
    "You cannot miss to visit his [web site](http://pythonquants.com/)!!! \n",
    "\n",
    "<img src=\"http://hilpisch.com/images/derivatives_analytics_front.jpg\" alt=\"Derivatives Analytics with Python\" width=\"10%\" align=\"left\" border=\"0\">\n",
    "\n",
    "\n",
    "<img src=\"img/tpq_logo.png\" alt=\"\" width=\"10%\" align=\"left\" border=\"0\">"
   ]
  },
  {
   "cell_type": "markdown",
   "metadata": {},
   "source": [
    "### General Description\n",
    "\n",
    "In this section we are going to consider the stochastic volatility model MH93 with constant short rate. This section values European call and put options in this model by MCS. As for the ZCB values, we also have available a semi-analytical pricing formula which generates natural bench- mark values against which to compare the MCS estimates.\n",
    "For $0 \\le t \\le T$ , the risk-neutral dynamics of the index in the H93 stochastic volatility model are given by\n",
    "\n",
    "$$\n",
    "dS_t = rS_t dt + \\sqrt{v_t} S_t dZ_t^1\n",
    "$$\n",
    "\n",
    "with the variance following the square-root diffusion\n",
    "\n",
    "$$\n",
    "dv_t = \\kappa_v (\\theta_v - v_t) dt + \\sigma_v \\sqrt{v_t} dZ_t^2\n",
    "$$\n",
    "\n",
    "The two Brownian motions are instantaneously correlated with $dZ_t^1 dZ_t^2 = \\rho$ This correlation introduces a new problem dimension into the discretization for simulation purposes. To avoid problems arising from correlating normally distributed increments (of $S$) with chi-squared distributed increments (of $v$), we will in the following only consider Euler schemes for both the $S$ and $v$ process. This has the advantage that the increments of $v$ become normally distributed as well and can therefore be easily correlated with the increments of $S$.\n",
    "\n",
    "...\n"
   ]
  },
  {
   "cell_type": "code",
   "execution_count": 59,
   "metadata": {
    "collapsed": true
   },
   "outputs": [],
   "source": [
    "def random_number_generator(M, I):\n",
    "    ''' Function to generate pseudo-random numbers.\n",
    "\n",
    "    Parameters\n",
    "    ==========\n",
    "    M: int\n",
    "        time steps\n",
    "    I: int\n",
    "        number of simulation paths\n",
    "\n",
    "    Returns\n",
    "    =======\n",
    "    rand: NumPy array\n",
    "        random number array\n",
    "    '''\n",
    "    if antipath:\n",
    "        rand = np.random.standard_normal((2, M + 1, I / 2))\n",
    "        rand = np.concatenate((rand, -rand), 2)\n",
    "    else:\n",
    "        rand = np.random.standard_normal((2, M + 1, I))\n",
    "    if momatch:\n",
    "        rand = rand / np.std(rand)\n",
    "        rand = rand - np.mean(rand)\n",
    "    return rand\n"
   ]
  },
  {
   "cell_type": "markdown",
   "metadata": {},
   "source": [
    "### Square-Root Diffusion Simulation Function"
   ]
  },
  {
   "cell_type": "code",
   "execution_count": 60,
   "metadata": {
    "collapsed": true
   },
   "outputs": [],
   "source": [
    "def SRD_generate_paths(x_disc, x0, kappa, theta, sigma,\n",
    "                       T, M, I, rand, row, cho_matrix):\n",
    "    ''' Function to simulate Square-Root Diffussion (SRD/CIR) process.\n",
    "\n",
    "    Parameters\n",
    "    ==========\n",
    "    x0: float\n",
    "        initial value\n",
    "    kappa: float\n",
    "        mean-reversion factor\n",
    "    theta: float\n",
    "        long-run mean\n",
    "    sigma: float\n",
    "        volatility factor\n",
    "    T: float\n",
    "        final date/time horizon\n",
    "    M: int\n",
    "        number of time steps\n",
    "    I: int\n",
    "        number of paths\n",
    "    row: int\n",
    "        row number for random numbers\n",
    "    cho_matrix: NumPy array\n",
    "        cholesky matrix\n",
    "\n",
    "    Returns\n",
    "    =======\n",
    "    x: NumPy array\n",
    "        simulated variance paths\n",
    "    '''\n",
    "    dt = T / M\n",
    "    x = np.zeros((M + 1, I), dtype=np.float)\n",
    "    x[0] = x0\n",
    "    xh = np.zeros_like(x)\n",
    "    xh[0] = x0\n",
    "    sdt = math.sqrt(dt)\n",
    "    for t in xrange(1, M + 1):\n",
    "        ran = np.dot(cho_matrix, rand[:, t])\n",
    "        if x_disc == 'Full Truncation':\n",
    "            xh[t] = (xh[t - 1] + kappa * (theta -\n",
    "                 np.maximum(0, xh[t - 1])) * dt +\n",
    "                 np.sqrt(np.maximum(0, xh[t - 1])) * sigma * ran[row] * sdt)\n",
    "            x[t] = np.maximum(0, xh[t])\n",
    "        elif x_disc == 'Partial Truncation':\n",
    "            xh[t] = (xh[t - 1] + kappa * (theta - xh[t - 1]) * dt +\n",
    "                 np.sqrt(np.maximum(0, xh[t - 1])) * sigma * ran[row] * sdt)\n",
    "            x[t] = np.maximum(0, xh[t])\n",
    "        elif x_disc == 'Truncation':\n",
    "            x[t] = np.maximum(0, x[t - 1]\n",
    "                 + kappa * (theta - x[t - 1]) * dt +\n",
    "                 np.sqrt(x[t - 1]) * sigma * ran[row] * sdt)\n",
    "        elif x_disc == 'Reflection':\n",
    "            xh[t] = (xh[t - 1]\n",
    "                 + kappa * (theta - abs(xh[t - 1])) * dt +\n",
    "                 np.sqrt(abs(xh[t - 1])) * sigma * ran[row] * sdt)\n",
    "            x[t] = abs(xh[t])\n",
    "        elif x_disc == 'Higham-Mao':\n",
    "            xh[t] = (xh[t - 1] + kappa * (theta - xh[t - 1]) * dt +\n",
    "                 np.sqrt(abs(xh[t - 1])) * sigma * ran[row] * sdt)\n",
    "            x[t] = abs(xh[t])\n",
    "        elif x_disc == 'Simple Reflection':\n",
    "            x[t] = abs(x[t - 1] + kappa * (theta - x[t - 1]) * dt +\n",
    "                 np.sqrt(x[t - 1]) * sigma * ran[row] * sdt)\n",
    "        elif x_disc == 'Absorption':\n",
    "            xh[t] = (np.maximum(0, xh[t - 1])\n",
    "                 + kappa * (theta - np.maximum(0, xh[t - 1])) * dt +\n",
    "                 np.sqrt(np.maximum(0, xh[t - 1])) * sigma * ran[row] * sdt)\n",
    "            x[t] = np.maximum(0, xh[t])\n",
    "        else:\n",
    "            print x_disc\n",
    "            print \"No valid Euler scheme.\"\n",
    "            sys.exit(0)\n",
    "    return x\n"
   ]
  },
  {
   "cell_type": "markdown",
   "metadata": {},
   "source": [
    "### Function for Heston Asset Process"
   ]
  },
  {
   "cell_type": "code",
   "execution_count": 61,
   "metadata": {
    "collapsed": true
   },
   "outputs": [],
   "source": [
    "def H93_generate_paths(S0, r, v, row, cho_matrix):\n",
    "    ''' Simulation of Heston (1993) index process.\n",
    "    \n",
    "    Parameters\n",
    "    ==========\n",
    "    S0: float\n",
    "        initial value\n",
    "    r: float\n",
    "        constant short rate\n",
    "    v: NumPy array\n",
    "        simulated variance paths\n",
    "    row: int\n",
    "        row/matrix of random number array to use\n",
    "    cho_matrix: NumPy array\n",
    "        Cholesky matrix\n",
    "\n",
    "    Returns\n",
    "    =======\n",
    "    S: NumPy array\n",
    "        simulated index level paths\n",
    "    '''\n",
    "    S = np.zeros((M + 1, I), dtype=np.float)\n",
    "    S[0] = S0\n",
    "    bias = 0.0\n",
    "    sdt = math.sqrt(dt)\n",
    "    for t in xrange(1, M + 1, 1):\n",
    "        ran = np.dot(cho_matrix, rand[:, t])\n",
    "        if momatch:\n",
    "            bias = np.mean(np.sqrt(v[t]) * ran[row] * sdt)\n",
    "        if s_disc == 'Log':\n",
    "            S[t] = S[t - 1] * np.exp((r - 0.5 * v[t]) * dt +\n",
    "                    np.sqrt(v[t]) * ran[row] * sdt - bias)\n",
    "        elif s_disc == 'Naive':\n",
    "            S[t] = S[t - 1] * (math.exp(r * dt) +\n",
    "                    np.sqrt(v[t]) * ran[row] * sdt - bias)\n",
    "        else:\n",
    "            print \"No valid Euler scheme.\"\n",
    "            exit(0)\n",
    "    return S\n"
   ]
  },
  {
   "cell_type": "code",
   "execution_count": 76,
   "metadata": {
    "collapsed": false
   },
   "outputs": [],
   "source": [
    "r       = 0.05   # Fixed Short Rate\n",
    "theta_v = 0.02   # long-term variance level\n",
    "S0      = 100.0  # initial index level\n",
    "K       = 90\n",
    "\n",
    "v0      = 0.01\n",
    "kappa_v = 1.5\n",
    "sigma_v = 0.15\n",
    "rho     = 0.1\n",
    "\n",
    "covariance_matrix    = np.zeros((2, 2), dtype=np.float)\n",
    "covariance_matrix[0] = [1.0, rho]\n",
    "covariance_matrix[1] = [rho, 1.0]\n",
    "cho_matrix           = np.linalg.cholesky(covariance_matrix)\n",
    "\n",
    "# time step (per year)\n",
    "M0      = 50       \n",
    "# expiry (y)\n",
    "T       = 1.0/12.0     \n",
    "# number of paths per valuation\n",
    "I       = 100000     \n",
    "\n",
    "antipath = False # antithetic paths for variance reduction\n",
    "momatch  = True # random number correction (std + mean + drift)\n",
    "x_disc   = 'Full Truncation'\n",
    "s_disc   = 'Log' \n",
    "\n",
    "# memory clean-up\n",
    "v, S, rand, h = 0.0, 0.0, 0.0, 0.0\n",
    "M = int(M0 * T)  # number of total time steps \n",
    "dt = T / M  # time interval in years\n",
    "# random numbers\n",
    "rand = random_number_generator(M, I)\n",
    "# volatility process paths\n",
    "v = SRD_generate_paths(x_disc, v0, kappa_v, theta_v,sigma_v, T, M, I, rand, 1, cho_matrix)\n",
    "# index level process paths\n",
    "S = H93_generate_paths(S0, r, v, 0, cho_matrix)\n",
    "# discount factor\n",
    "B0T = math.exp(-r * T)      \n",
    "\n",
    "# European call option value (semi-analytical)\n",
    "C0  = H93_call_value(S0, K, T, r, kappa_v, theta_v, sigma_v, rho, v0)\n",
    "\n",
    "# inner value matrix call\n",
    "h = np.maximum(S - K, 0)\n",
    "\n",
    "pv     = B0T * h[-1]                # present value vector\n",
    "V0_MCS = np.sum(pv) / I             # MCS estimator\n",
    "SE     = np.std(pv) / math.sqrt(I)  # standard error\n",
    "\n",
    "rel_error = (V0_MCS - C0) / C0\n",
    "                        "
   ]
  },
  {
   "cell_type": "code",
   "execution_count": 77,
   "metadata": {
    "collapsed": false
   },
   "outputs": [
    {
     "name": "stdout",
     "output_type": "stream",
     "text": [
      "10.3747582877 10.3743547174 0.00949794679005 0.00389007635408\n"
     ]
    }
   ],
   "source": [
    "print V0_MCS, C0, SE, 100*rel_error"
   ]
  }
 ],
 "metadata": {
  "kernelspec": {
   "display_name": "Python 2",
   "language": "python",
   "name": "python2"
  },
  "language_info": {
   "codemirror_mode": {
    "name": "ipython",
    "version": 2
   },
   "file_extension": ".py",
   "mimetype": "text/x-python",
   "name": "python",
   "nbconvert_exporter": "python",
   "pygments_lexer": "ipython2",
   "version": "2.7.10"
  }
 },
 "nbformat": 4,
 "nbformat_minor": 0
}
