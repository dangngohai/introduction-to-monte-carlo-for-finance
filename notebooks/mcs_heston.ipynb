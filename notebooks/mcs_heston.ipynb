{
 "cells": [
  {
   "cell_type": "code",
   "execution_count": null,
   "metadata": {
    "collapsed": true
   },
   "outputs": [],
   "source": [
    "%matplotlib inline\n",
    "\n",
    "from pylab import *\n",
    "from matplotlib import pyplot as pl"
   ]
  },
  {
   "cell_type": "markdown",
   "metadata": {},
   "source": [
    "## The Heston Model and Its Simulation\n",
    "\n",
    "##### from Yves Hilpisch \"Derivatives Analytics with Python\" Wiley Finance (2015)\n",
    "You cannot miss to visit his [web site](http://pythonquants.com/)!!! \n",
    "\n",
    "<img src=\"http://hilpisch.com/images/derivatives_analytics_front.jpg\" alt=\"Derivatives Analytics with Python\" width=\"10%\" align=\"left\" border=\"0\">\n",
    "\n",
    "\n",
    "<img src=\"img/tpq_logo.png\" alt=\"\" width=\"10%\" align=\"left\" border=\"0\">"
   ]
  },
  {
   "cell_type": "markdown",
   "metadata": {},
   "source": [
    "In this section we are going to consider the stochastic volatility model MH93 with constant short rate. This section values European call and put options in this model by MCS. As for the ZCB values, we also have available a semi-analytical pricing formula which generates natural bench- mark values against which to compare the MCS estimates.\n",
    "For $0 \\le t \\le T$ , the risk-neutral dynamics of the index in the H93 stochastic volatility model are given by\n",
    "\n",
    "$$\n",
    "dS_t = rS_t dt + \\sqrt{v_t} S_t dZ_t^1\n",
    "$$\n",
    "\n",
    "with the variance following the square-root diffusion\n",
    "\n",
    "$$\n",
    "dv_t = \\kappa_v (\\theta_v - v_t) dt + \\sigma_v \\sqrt{v_t} dZ_t^2\n",
    "$$\n",
    "\n",
    "The two Brownian motions are instantaneously correlated with $dZ_t^1 dZ_t^2 = \\rho$ This correlation introduces a new problem dimension into the discretization for simulation purposes (cf. [17]). To avoid problems arising from corre- lating normally distributed increments (of $S$) with chi-squared distributed increments (of $v$), we will in the following only consider Euler schemes for both the $S$ and $v$ process. This has the advantage that the increments of $v$ become normally distributed as well and can therefore be easily correlated with the increments of $S$.\n",
    "\n"
   ]
  },
  {
   "cell_type": "code",
   "execution_count": null,
   "metadata": {
    "collapsed": true
   },
   "outputs": [],
   "source": []
  }
 ],
 "metadata": {
  "kernelspec": {
   "display_name": "Python 2",
   "language": "python",
   "name": "python2"
  },
  "language_info": {
   "codemirror_mode": {
    "name": "ipython",
    "version": 2
   },
   "file_extension": ".py",
   "mimetype": "text/x-python",
   "name": "python",
   "nbconvert_exporter": "python",
   "pygments_lexer": "ipython2",
   "version": "2.7.10"
  }
 },
 "nbformat": 4,
 "nbformat_minor": 0
}
