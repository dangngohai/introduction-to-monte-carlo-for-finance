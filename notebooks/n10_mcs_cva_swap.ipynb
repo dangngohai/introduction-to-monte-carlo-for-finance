{
 "cells": [
  {
   "cell_type": "markdown",
   "metadata": {},
   "source": [
    "# Introduction to Monte Carlo Simulation in Finance\n",
    "\n",
    "## Derivatives CVA calculation example Monte-Carlo with python"
   ]
  },
  {
   "cell_type": "markdown",
   "metadata": {},
   "source": [
    "Here we'll show an example of code for CVA calculation (Credit Valuation Adjustment) using python with simple Monte-Carlo method with portfolio consisting just of a single interest rate swap.It's easy to generalize code to include more financial instruments.\n",
    "\n",
    "#### CVA calculation algorithm:\n",
    "\n",
    "1) Simulate yield curve at future dates\n",
    "\n",
    "2) Calculate your derivatives portfolio NPV (net present value) at each time point for each scenario\n",
    "\n",
    "3) Calculate CVA as sum of Expected Exposure multiplied by probability of default at this interval\n",
    "\n",
    "$$ CVA=(1−R) \\int DF(t)EE(t)dQ_t $$\n",
    "\n",
    "where $R$ is the Recovery Rate (normally set to 40%) $EE(t)$ is the expected exposure at time $t$ and $dQ_t$ the survival probability density, $DF(t)$ is the discount factor at time $t$.\n",
    "\n",
    "#### Outline\n",
    "\n",
    "1. In this simple example we will use a modified version of Hull White model to generate future yield curves. In practice many banks use some yield curve evolution models based on this model. As you can see in the [slides](https://github.com/polyhedron-gdl/introduction-to-monte-carlo-for-finance/blob/master/slides/simulation_methods_finance.pdf), in Hull White model the short rate $r_t$ is distributed normally with known mean and variance.\n",
    "\n",
    "2. For each point of time we will generate whole yield curve based on short rate. Then we will price our interest rate swap on each of these curves;\n",
    "\n",
    "3. to approximate CVA we will use BASEL III formula for regulatory capital charge approximating default probability [or survival probability ] as $exp(-S_T/(1-R))$ so we get\n",
    "\n",
    "$$\n",
    "CVA=(1−R) \\sum\\limits_i \\frac{EE(T_i)^\\star + EE(T_{i−1}^\\star}{2}\n",
    "\\left( e^{−S(T_{i−1})/(1−R)}−e^{−S(T_i)/(1−R)} \\right)\n",
    "$$\n",
    "where $EE^\\star$ is the discounted Expected Exposure of portfolio.\n",
    "\n",
    "#### Details\n",
    "\n",
    "For this first example we'll take 2% flat forward yield curve. \n",
    "\n",
    "##### Additive Factor Gaussian Model for future yield curve simulations\n",
    "\n",
    "The model is given by dynamics (Brigo & Mercurio p. 143):\n",
    "\n",
    "$$r(t) = x(t) + \\phi(t)$$\n",
    "\n",
    "where\n",
    "\n",
    "$$dx(t)=− a x(t)dt+\\sigma dW_t \\quad x(0)=0$$\n",
    "\n",
    "and $\\phi$ is a deterministic shift which is added in order to fit exactly the initial zero coupon curve\n",
    "So the short rate $r(t)$ is distributed normally with mean and variance given by (Brigo & Mercurio p.144 equations 4.6 with $\\eta = 0$)\n",
    "\n",
    "$$\n",
    "E(r_t|r_s)= x(s) e^{−a(t−s)} + \\phi(t)\n",
    "$$\n",
    "\n",
    "$$\n",
    "Var(r_t|r_s) = \\frac{\\sigma^2}{2a} \\left( 1−e^{−2a(t−s)} \\right)\n",
    "$$\n",
    "\n",
    "where $\\phi(T) = f^M(0,T) + \\frac{\\sigma^2}{2a} \\left( 1−e^{−aT} \\right)^2$ and $f^M(0,T)$ is the market instantaneous forward rate at time $t$ as seen at time $0$.\n",
    "\n",
    "Model discount factors are calculated as in Brigo & Mercurio (section 4.2): \n",
    "\n",
    "$$P(t,T)=\\frac{P^M(0,T)}{P^M(0,t)}\\exp\\left( \\mathcal{A}(t,T) \\right) \\quad (BM\\, eq.\\, 4.14)$$ \n",
    "$$\\mathcal{A}(t,T) = \\frac{1}{2} \\left[ V(t,T) - V(0,T) + V(0,t) \\right] - \\frac{1-e^{-a(T-t)}}{a}x(t)\n",
    "\\quad (BM\\, eq.\\, 4.14)$$ \n",
    "\n",
    "where\n",
    "\n",
    "$$V(t,T) = \\frac{\\sigma^2}{a^2} \\left[\n",
    "T-t+\\frac{2}{a}e^{-a(T-t)}-\\frac{1}{2a} e^{-2a(T-t)} - \\frac{3}{2a}\n",
    "\\right]\n",
    "\\quad (BM\\, eq. \\, 4.10)\n",
    "$$\n",
    "\n",
    "The calculation of the model discount factor is incapsulated into the class *GPPDiscountCurve* which is a specialization of the *DiscountCurve* class."
   ]
  },
  {
   "cell_type": "code",
   "execution_count": 1,
   "metadata": {
    "collapsed": false
   },
   "outputs": [
    {
     "name": "stdout",
     "output_type": "stream",
     "text": [
      "module qfin_ir_classes imported\n"
     ]
    }
   ],
   "source": [
    "import datetime\n",
    "from math             import exp, sqrt\n",
    "from qfin_calendar    import *\n",
    "from qfin_ir_classes  import *\n",
    "from qfin_pocket      import *"
   ]
  },
  {
   "cell_type": "code",
   "execution_count": 2,
   "metadata": {
    "collapsed": true
   },
   "outputs": [],
   "source": [
    "class GPPDiscountCurve():\n",
    "    def __init__(self,  dc, a, sigma, x_t, simulDate):\n",
    "        self.__dc            = dc\n",
    "        self.__a             = a\n",
    "        self.__sigma         = sigma\n",
    "        self.__simulDate     = simulDate\n",
    "        self.__x_t           = x_t\n",
    "        #\n",
    "        self.__year_fract    = YearFractionFactory.create_istance(day_count_basis.basis_lin_act_365) \n",
    "        self.__t             = self.__year_fract(self.__dc.obsdate(), simulDate)\n",
    "        \n",
    "        # The instantaneous forward rate is calculated approximately assuming a temporal lag of 1 single day\n",
    "        # discount function at t = simulated date\n",
    "        PM_0T                = dc.df(simulDate)\n",
    "        # discount function at t = simulated date + 1 day\n",
    "        PM_0T1               = dc.df(simulDate + addTimeInterval(1, 'd'))\n",
    "        # tau = 1 day = 1/365 on annual basis\n",
    "        tau                  = 1/365.0\n",
    "        f_M0T                = - (PM_0T1/PM_0T - 1)/tau\n",
    "        # Phi function, Brigo & Mercurio p. 146 eq (4.12) with eta = 0\n",
    "        self.__phi           = f_M0T + (sigma**2 / (2*a))*(1.0 - exp(-a*self.__t))**2\n",
    "        \n",
    "                \n",
    "    def update(self, x, simulDate):\n",
    "        self.__t            = self.__year_fract(self.__dc.obsdate(), simulDate)\n",
    "        self.__x_t          = x\n",
    "        self.__simulDate    = simulDate\n",
    "        self.__PM_0t        = self.__dc.df(simulDate)\n",
    "    \n",
    "    def V(self,t,T):\n",
    "        #\n",
    "        # Computation of V(t,T) function as in Brigo & Mercurio p. 145 equation 4.10 with eta = 0\n",
    "        #\n",
    "        sigma = self.__sigma\n",
    "        a     = self.__a\n",
    "        v     = ((sigma/a)**2)*(T-t+(2.0/a)*exp(-a*(T-t))-(1.0/(2.0*a))*exp(2*a*(T-t))-(3.0/(2.0*a)))\n",
    "        return v                        \n",
    "    \n",
    "    def df(self, date_T):\n",
    "        #\n",
    "        # Pricing of a Zero Coupon Bond \n",
    "        # Brigo & Mercurio p. 146 equation 4.14 without y(t)\n",
    "        #\n",
    "        index = (self.__simulDate, date_T)\n",
    "        x_t         = self.__x_t\n",
    "        T           = self.__year_fract(self.__dc.obsdate(), date_T)\n",
    "        PM_0T       = self.__dc.df(date_T)\n",
    "        PM_0t       = self.__dc.df(self.__simulDate)\n",
    "        t           = self.__t\n",
    "        a           = self.__a\n",
    "        sigma       = self.__sigma\n",
    "        AtT         = 0.5 *(self.V(t,T)  - self.V(0,T) + self.V(0,t)) - x_t*(1.0 - exp(-a*(T-t)))/a\n",
    "        PtT         = (PM_0T / PM_0t) * exp(AtT)\n",
    "         \n",
    "        return  PtT\n",
    "    \n",
    "    def phi(self):\n",
    "        return self.__phi\n",
    "    \n",
    "    def obsdate(self):\n",
    "        return self.__simulDate"
   ]
  },
  {
   "cell_type": "markdown",
   "metadata": {},
   "source": [
    "##### Valuing portfolio\n",
    "\n",
    "On each of this curve we will value swap using the Swap class defined in *qfin_swap* module. \n",
    "For our example portfolio we'll take one interest rate swap EUR 1MM notional receiving 2% every 6m, TARGET calendar, with 5 years maturity. Actual/360 daycounter for both legs.\n"
   ]
  },
  {
   "cell_type": "code",
   "execution_count": 3,
   "metadata": {
    "collapsed": false
   },
   "outputs": [],
   "source": [
    "today           = datetime.date(2014,10,24)\n",
    "#        \n",
    "# create evaluation date discount curve\n",
    "#\n",
    "# starting value for short rate\n",
    "spot_rate       =   0.02\n",
    "fardate         = today + addTimeInterval(10.0, 'y')\n",
    "year_fraction   = YearFractionFactory.create_istance(day_count_basis.basis_lin_act_365)\n",
    "df              = 1.0 / ((1.0 + spot_rate / 365.0) **(year_fraction(today, fardate) * 365.0))\n",
    "crv_today       = DiscountCurve(today, [fardate], [df])\n",
    "# \n",
    "gpp_k           = 0.1\n",
    "gpp_sigma       = 0.005\n",
    "\n",
    "mc_runs         = 1000\n",
    "\n",
    "year_fraction   = YearFractionFactory.create_istance(day_count_basis.basis_lin_act_365)\n",
    "#\n",
    "# initial values\n",
    "#\n",
    "libor_schedule  = LiborScheduler(fixing_lag = 2, day_count = day_count_basis.basis_lin_act_360, start_adj = AdjustmentType.FOLLOWING, end_adj = AdjustmentType.MODFOLLOWING, end_to_end = True)\n",
    "gpp_dc          = GPPDiscountCurve(crv_today, \n",
    "                                   gpp_k, \n",
    "                                   gpp_sigma, \n",
    "                                   0, \n",
    "                                   today)\n",
    "libor_calc      = LiborForwardCalculator(gpp_dc, libor_schedule)\n",
    "libor_indx      = Libor(today, 0.0, '6m', libor_calc, 'EURIBOR 6M')\n",
    "#\n",
    "# create test swap\n",
    "#\n",
    "swap            = Swap(today, \n",
    "                       libor_indx, \n",
    "                       '5y',                # maturity\n",
    "                       0.02,                # strike rate\n",
    "                       notional = 1000000, \n",
    "                       pay_fix = +1, \n",
    "                       pay_float = -1, \n",
    "                       float_tenor='6m', \n",
    "                       fixed_tenor='6m')\n",
    "\n",
    "fixing_dates    = [f.fixing_date() for l in swap.legs() for f in l.flows() if f.index() != None]\n",
    "#\n",
    "# maturities set generator\n",
    "#\n",
    "time_range      = xrange(1, 12 * 5 + 6, 1)\n",
    "sim_dates       = [today] + [today + addTimeInterval(x, 'm') for x in time_range]\n",
    "#\n",
    "# add fixing dates to simulation dates\n",
    "#        \n",
    "sim_dates       = set(sim_dates)\n",
    "sim_dates.update(fixing_dates)\n",
    "sim_dates       = sorted(sim_dates)\n",
    "#\n",
    "# calculation of simulation times according to the year fraction convention chosen\n",
    "# \n",
    "sim_times       = [year_fraction(today, d) for d in sim_dates]\n",
    "sim_times       = np.array(sim_times)\n"
   ]
  },
  {
   "cell_type": "markdown",
   "metadata": {},
   "source": [
    "To generate future values of $r_t$ first we will generate matrix of standard normal variables using numpy library function *numpy.random.standard_normal()*. After that we will apply transform $mean + variance \\cdot Normal(0,1)$ to get $r_t$ after getting the value of  $r_t$, we will construct yield curve  using model discount factors and store each yield curve in matrix *fwdMat*. "
   ]
  },
  {
   "cell_type": "code",
   "execution_count": 4,
   "metadata": {
    "collapsed": true
   },
   "outputs": [],
   "source": [
    "#\n",
    "#-------------------------------------------------------------------------------------------------------------------\n",
    "# we generate a matrix Nsim x len(T) of standard normal random numbers\n",
    "# seed is fixed just to get always the same result\n",
    "#\n",
    "np.random.seed(1)\n",
    "stdnorm = np.random.standard_normal(size=(mc_runs,len(sim_times)-1))\n",
    "#\n",
    "fwdMat      =   np.zeros(shape=len(sim_times))\n",
    "fwdMat[0]   =   gpp_dc.phi()\n",
    "numeraire   =   np.zeros(shape=len(sim_times))\n",
    "#\n",
    "# npv matrix\n",
    "npvMat= [ [ 0 for i in xrange(len(sim_times)) ] for nSim in xrange(mc_runs) ]\n",
    "# short rate and discount curve simulation loop\n",
    "r = gpp_dc.phi()\n",
    "var_factor = 0.5*(gpp_sigma*gpp_sigma/gpp_k)\n",
    "# simulation loop\n",
    "for nSim in xrange(mc_runs):\n",
    "    x_s = 0\n",
    "    for nT in xrange(1,len(sim_times)):\n",
    "        # ref. B&M eq. (3.35), (3.37) pg. 73\n",
    "        t           = sim_times[nT]\n",
    "        s           = sim_times[nT-1]\n",
    "        drift       = x_s * exp(-gpp_k*(t-s))\n",
    "        var         = var_factor*(1-exp(-2*gpp_k*(t-s)))\n",
    "        x_t         = drift + stdnorm[nSim,nT-1] * sqrt(var)\n",
    "        # updating curve\n",
    "        gpp_dc.update(x_t, sim_dates[nT])\n",
    "        fwdMat[nT]  = libor_indx.forward(sim_dates[nT])     \n",
    "        # computing numeraire\n",
    "        numeraire[nT] = numeraire[nT-1] + r * (t - s)\n",
    "        #\n",
    "        table = Table1D(sim_dates, fwdMat)\n",
    "        fixed = {'EURIBOR 6M':table}\n",
    "        price = swap.price(fixed, gpp_dc, sim_dates[nT])\n",
    "        npvMat[nSim][nT] = price['npv'] * np.exp(-numeraire[nT])\n",
    "        #\n",
    "        r = x_t + gpp_dc.phi()\n",
    "        x_s = x_t"
   ]
  },
  {
   "cell_type": "markdown",
   "metadata": {},
   "source": [
    "##### CVA calculation\n",
    "\n",
    "After getting matrix of all NPV at each point for each simulation we will replace negative values with 0.\n",
    "Then we average each column of the matrix (corresponding to averaging for each time point) to get Expected Exposure.\n",
    "and finally calculate CVA as sum as in BASEL 3 formula. Here we'll take 500bps flat CDS spread.\n"
   ]
  },
  {
   "cell_type": "code",
   "execution_count": 5,
   "metadata": {
    "collapsed": true
   },
   "outputs": [],
   "source": [
    "npvMat=np.array(npvMat)\n",
    "npvMat[npvMat<0]=0\n",
    "EPE = np.mean(npvMat,axis=0)\n",
    "\n",
    "cds_spread      = 0.05\n",
    "recovery_rate   = 0.4\n",
    "\n",
    "# calculate CVA\n",
    "sum_cva=0\n",
    "for i in xrange(len(sim_times)-1):\n",
    "    sum_cva=sum_cva + EPE[i] *                             \\\n",
    "     (exp(-cds_spread*sim_times[i]  /(1.0-recovery_rate))- \\\n",
    "      exp(-cds_spread*sim_times[i+1]/(1.0-recovery_rate))  \\\n",
    "     )\n",
    "         \n",
    "CVA = (1.0-recovery_rate)*sum_cva"
   ]
  },
  {
   "cell_type": "markdown",
   "metadata": {},
   "source": [
    "Finally we plot the profile"
   ]
  },
  {
   "cell_type": "code",
   "execution_count": 7,
   "metadata": {
    "collapsed": false
   },
   "outputs": [
    {
     "data": {
      "image/png": "[encoded data removed]",
      "text/plain": [
       "<matplotlib.figure.Figure at 0x105ad90d0>"
      ]
     },
     "metadata": {},
     "output_type": "display_data"
    }
   ],
   "source": [
    "%matplotlib inline\n",
    "\n",
    "import matplotlib\n",
    "import matplotlib.pyplot as plt\n",
    "\n",
    "from n09_cva_swap import EPE_Swaption\n",
    "\n",
    "plt.title(\"cva profile for a plain vanilla swap\")\n",
    "plt.plot(sim_times,EPE, label='simulated')\n",
    "plt.plot(sim_times,EPE_Swaption,color='red', label='analytic')\n",
    "plt.legend()\n",
    "plt.show()"
   ]
  }
 ],
 "metadata": {
  "kernelspec": {
   "display_name": "Python 2",
   "language": "python",
   "name": "python2"
  },
  "language_info": {
   "codemirror_mode": {
    "name": "ipython",
    "version": 2
   },
   "file_extension": ".py",
   "mimetype": "text/x-python",
   "name": "python",
   "nbconvert_exporter": "python",
   "pygments_lexer": "ipython2",
   "version": "2.7.10"
  }
 },
 "nbformat": 4,
 "nbformat_minor": 0
}
