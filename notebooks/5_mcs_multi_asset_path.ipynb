{
 "cells": [
  {
   "cell_type": "markdown",
   "metadata": {},
   "source": [
    "### Introduction to Monte Carlo Simulation in Finance\n",
    "# Multiasset Simulation\n",
    "\n",
    "## Cholesky Decomposition\n",
    "\n",
    "The **Choleski Decomposition** makes an appearance in Monte Carlo Methods where it is used to simulating systems with correlated variables.  Cholesky decomposition is applied to the correlation matrix, providing a lower triangular matrix $A$, which when applied to a vector of uncorrelated samples, $u$, produces the covariance vector of the system. Thus it is highly relevant for quantitative trading.\n",
    "\n",
    "The standard procedure for generating a set of correlated normal random variables is through a linear combination of uncorrelated normal random variables;\n",
    "Assume we have a set of $n$ independent standard normal random variables $Z$ and we want to build a set of $n$ correlated standard normals $Z^\\prime$ with correlation matrix $\\Sigma$\n",
    "$$\n",
    "Z^\\prime = AZ, \\quad \\quad AA^t = \\Sigma\n",
    "$$\n",
    "\n",
    "We can find a solution for $A$ in the form of a triangular matrix\n",
    "$$\n",
    "\\begin{pmatrix} \n",
    "A_{11} & 0 & \\dots & 0  \\\\ \n",
    "A_{21} & A_{22} & \\dots & 0  \\\\ \n",
    "\\vdots & \\vdots & \\ddots & \\dots  \\\\ \n",
    "A_{n1} & A_{n2} & \\dots & A_{nn}   \n",
    "\\end{pmatrix}\n",
    "$$\n",
    "\n",
    "**diagonal elements**\n",
    "$$\n",
    "a_{ii} = \\sqrt{\\Sigma_{ii} - \\sum\\limits_{k=1}^{i-1} a_{ik}^2}\n",
    "$$\n",
    "\n",
    "**off-diagonal elements**\n",
    "$$\n",
    "a_{ij} = \\frac{1}{a_{ii}} \\left( \\Sigma_{ij} - \\sum\\limits_{k=1}^{i-1} a_{ik} a_{jk} \\right)\n",
    "$$\n",
    "\n",
    "Using Python, the most efficient method in both development and execution time is to make use of the NumPy/SciPy linear algebra (linalg) library, which has a built in method cholesky to decompose a matrix. The optional lower parameter allows us to determine whether a lower or upper triangular matrix is produced: "
   ]
  },
  {
   "cell_type": "code",
   "execution_count": 33,
   "metadata": {
    "collapsed": false
   },
   "outputs": [
    {
     "name": "stdout",
     "output_type": "stream",
     "text": [
      "A:\n",
      "array([[ 6,  3,  4,  8],\n",
      "       [ 3,  6,  5,  1],\n",
      "       [ 4,  5, 10,  7],\n",
      "       [ 8,  1,  7, 25]])\n",
      "L:\n",
      "array([[ 2.44948974,  0.        ,  0.        ,  0.        ],\n",
      "       [ 1.22474487,  2.12132034,  0.        ,  0.        ],\n",
      "       [ 1.63299316,  1.41421356,  2.30940108,  0.        ],\n",
      "       [ 3.26598632, -1.41421356,  1.58771324,  3.13249102]])\n",
      "U:\n",
      "array([[ 2.44948974,  1.22474487,  1.63299316,  3.26598632],\n",
      "       [ 0.        ,  2.12132034,  1.41421356, -1.41421356],\n",
      "       [ 0.        ,  0.        ,  2.30940108,  1.58771324],\n",
      "       [ 0.        ,  0.        ,  0.        ,  3.13249102]])\n"
     ]
    }
   ],
   "source": [
    "import pprint\n",
    "import scipy\n",
    "import scipy.linalg   # SciPy Linear Algebra Library\n",
    "\n",
    "A = scipy.array([[6, 3, 4, 8], [3, 6, 5, 1], [4, 5, 10, 7], [8, 1, 7, 25]])\n",
    "L = scipy.linalg.cholesky(A, lower=True)\n",
    "U = scipy.linalg.cholesky(A, lower=False)\n",
    "\n",
    "print \"A:\"\n",
    "pprint.pprint(A)\n",
    "\n",
    "print \"L:\"\n",
    "pprint.pprint(L)\n",
    "\n",
    "print \"U:\"\n",
    "pprint.pprint(U)"
   ]
  },
  {
   "cell_type": "markdown",
   "metadata": {},
   "source": [
    "For example, for a two-dimension random vector we have simply\n",
    "$$\n",
    "A=\n",
    "\\begin{pmatrix} \n",
    "\\sigma_1        & 0   \\\\ \n",
    "\\sigma_2 \\rho & \\sigma_2 \\sqrt{1-\\rho^2}   \n",
    "\\end{pmatrix}\n",
    "$$\n",
    "\n",
    "Say one needs to generate two correlated normal variables $x_1$ and $x_2$. All one needs to do is to generate two uncorrelated Gaussian random variables $z_1$ and$ z_2$ and set\n",
    "$$\n",
    "x_1 = z_1 \n",
    "$$\n",
    "\n",
    "$$\n",
    "x_2 =  \\rho z_1 + \\sqrt{1-\\rho^2} z_2\n",
    "$$\n",
    "\n",
    "In Python everything you need is available in the *numpy* library, as we can see in the next example."
   ]
  },
  {
   "cell_type": "code",
   "execution_count": null,
   "metadata": {
    "collapsed": false
   },
   "outputs": [
    {
     "data": {
      "text/plain": [
       "<matplotlib.collections.PathCollection at 0x10e32c310>"
      ]
     },
     "execution_count": 34,
     "metadata": {},
     "output_type": "execute_result"
    },
    {
     "data": {
      "image/png": "[encoded data removed]",
      "text/plain": [
       "<matplotlib.figure.Figure at 0x10f099310>"
      ]
     },
     "metadata": {},
     "output_type": "display_data"
    }
   ],
   "source": [
    "%matplotlib inline\n",
    "\n",
    "import numpy as np\n",
    "import scipy as sc\n",
    "\n",
    "from math        import sqrt\n",
    "from scipy.stats import norm as scnorm\n",
    "from pylab       import *\n",
    "from matplotlib  import pyplot as pl\n",
    "\n",
    "xx = np.array([-0.51, 51.2])\n",
    "yy = np.array([0.33, 51.6])\n",
    "means = [xx.mean(), yy.mean()]  \n",
    "stds = [xx.std() / 3, yy.std() / 3]\n",
    "corr = 0.8         # correlation\n",
    "covs = [[stds[0]**2          , stds[0]*stds[1]*corr], \n",
    "        [stds[0]*stds[1]*corr,           stds[1]**2]] \n",
    "\n",
    "m = np.random.multivariate_normal(means, covs, 1000).T\n",
    "scatter(m[0], m[1])"
   ]
  },
  {
   "cell_type": "markdown",
   "metadata": {},
   "source": [
    "## Brownian simulation of correlated assets\n",
    "\n",
    "When using Monte Carlo methods to price options dependent on a basket of underlying assets (multidimensional stochastic simulations), the correlations between assets should be considered. Here I will show an example of how this can be simulated using pandas. \n",
    "\n",
    "Download and prepare the data\n",
    "\n",
    "First we download some data from Yahoo:"
   ]
  },
  {
   "cell_type": "code",
   "execution_count": null,
   "metadata": {
    "collapsed": false
   },
   "outputs": [],
   "source": [
    "from pandas.io.data import DataReader\n",
    "from pandas import Panel, DataFrame\n",
    "\n",
    "symbols = ['AAPL',    # Apple Inc.\n",
    "           'GLD',     # SPDR Gold Trust ETF\n",
    "           'SNP',     # S&P 500 Index\n",
    "           'MCD']     # McDonald's Corporation\n",
    "data = dict((symbol, DataReader(symbol, \"yahoo\", pause=1)) for symbol in symbols)\n",
    "panel = Panel(data).swapaxes('items', 'minor')\n",
    "closing = panel['Close'].dropna()\n",
    "closing.head()"
   ]
  },
  {
   "cell_type": "markdown",
   "metadata": {},
   "source": [
    "Now we can calculate the log returns:"
   ]
  },
  {
   "cell_type": "code",
   "execution_count": null,
   "metadata": {
    "collapsed": false
   },
   "outputs": [],
   "source": [
    "rets = log(closing / closing.shift(1)).dropna()\n",
    "rets.head()"
   ]
  },
  {
   "cell_type": "markdown",
   "metadata": {},
   "source": [
    "The correlation matrix has information about the historical correlations between stocks in the group. We work under the assumption that this quantity is conserved, so the generated stocks will need to satisfy this condition:"
   ]
  },
  {
   "cell_type": "code",
   "execution_count": null,
   "metadata": {
    "collapsed": false
   },
   "outputs": [],
   "source": [
    "corr_matrix = rets.corr()\n",
    "corr_matrix"
   ]
  },
  {
   "cell_type": "markdown",
   "metadata": {},
   "source": [
    "So the most correlated assets are MCD (McDonald's Corporation) and the SPX (S&P 500 Index). Pandas has a nice utility to plot the correlations:"
   ]
  },
  {
   "cell_type": "code",
   "execution_count": null,
   "metadata": {
    "collapsed": false
   },
   "outputs": [],
   "source": [
    "from pandas.tools.plotting import scatter_matrix\n",
    "\n",
    "scatter_matrix(rets, figsize=(8,8));"
   ]
  },
  {
   "cell_type": "markdown",
   "metadata": {},
   "source": [
    "### Simulation\n",
    "\n",
    "The simulation procedure for generating random variables will go like this:\n",
    "\n",
    "1. Calculate the Cholesky Decomposition matrix, this step will return an upper triangular matrix  $L^T$.\n",
    "2. Generate random vector  $X \\sim N(0,1)$.\n",
    "3. Obtain a correlated random vector  $Z=XL^T$.\n",
    "\n",
    "As we have previously seen the Cholesky decomposition of the correlation matrix corr_matrix is impemented in scipy:"
   ]
  },
  {
   "cell_type": "code",
   "execution_count": null,
   "metadata": {
    "collapsed": false
   },
   "outputs": [],
   "source": [
    "from scipy.linalg import cholesky\n",
    "\n",
    "upper_cholesky = cholesky(corr_matrix, lower=False)\n",
    "upper_cholesky"
   ]
  },
  {
   "cell_type": "markdown",
   "metadata": {},
   "source": [
    "We set up the parameters for the simulation:"
   ]
  },
  {
   "cell_type": "code",
   "execution_count": null,
   "metadata": {
    "collapsed": true
   },
   "outputs": [],
   "source": [
    "import numpy as np \n",
    "from pandas import bdate_range   # business days\n",
    "\n",
    "n_days = 21\n",
    "dates = bdate_range(start=closing.ix[-1].name, periods=n_days)\n",
    "n_assets = len(symbols)\n",
    "n_sims = 1000\n",
    "dt = 1./252\n",
    "mu = rets.mean().values\n",
    "sigma = rets.std().values*sqrt(252)\n",
    "np.random.seed(1234)            # init random number generator for reproducibility"
   ]
  },
  {
   "cell_type": "markdown",
   "metadata": {},
   "source": [
    "Now we generate the correlated random values $X$:"
   ]
  },
  {
   "cell_type": "code",
   "execution_count": null,
   "metadata": {
    "collapsed": false
   },
   "outputs": [],
   "source": [
    "rand_values = np.random.standard_normal(size = (n_days * n_sims, n_assets)) #\n",
    "corr_values = rand_values.dot(upper_cholesky)*sigma\n",
    "corr_values"
   ]
  },
  {
   "cell_type": "markdown",
   "metadata": {},
   "source": [
    "With everything set up we can start iterating through the time interval. The results for each specific time are saved along the third axis of a pandas Panel."
   ]
  },
  {
   "cell_type": "code",
   "execution_count": null,
   "metadata": {
    "collapsed": false
   },
   "outputs": [],
   "source": [
    "prices = Panel(items=range(n_sims), minor_axis=symbols, major_axis=dates)\n",
    "prices.ix[:, 0, :] = closing.ix[-1].values.repeat(1000).reshape(4,1000).T # set initial values\n",
    "\n",
    "for i in range(1,n_days):\n",
    "    prices.ix[:, i, :] = prices.ix[:, i-1,:] * (exp((mu-0.5*sigma**2)*dt +  sqrt(dt)*corr_values[i::n_days])).T    \n",
    "\n",
    "prices.ix[123, :, :].head()   # show random path"
   ]
  },
  {
   "cell_type": "markdown",
   "metadata": {},
   "source": [
    "And thats all! Now it is time to check our results. First a plot of all random paths for AAPL (Apple Inc.)."
   ]
  },
  {
   "cell_type": "code",
   "execution_count": null,
   "metadata": {
    "collapsed": false
   },
   "outputs": [],
   "source": [
    "prices.ix[::10, :, 'AAPL'].plot(title='AAPL', legend=False);"
   ]
  },
  {
   "cell_type": "markdown",
   "metadata": {},
   "source": [
    "We can take a look at the statistics for the last day:"
   ]
  },
  {
   "cell_type": "code",
   "execution_count": null,
   "metadata": {
    "collapsed": false
   },
   "outputs": [],
   "source": [
    "prices.ix[:, -1, :].T.describe()"
   ]
  },
  {
   "cell_type": "markdown",
   "metadata": {},
   "source": [
    "## Simulating correlated random walks with Copulas\n",
    "\n",
    "[Very interesting on copula with python...](https://mktstk.com/2015/01/05/simulating-correlated-random-walks-with-copulas/)\n",
    "\n",
    "[... and this for starting use python with google financial data](https://mktstk.com/2014/12/31/how-to-get-free-intraday-stock-data-with-python/)"
   ]
  },
  {
   "cell_type": "markdown",
   "metadata": {},
   "source": [
    "Sklar’s Theorem states that any multivariate joint distribution can be written in terms of univariate marginal distribution functions and a copula which describes the dependence structure between the variables.\n",
    "\n",
    "Copulas are popular in high-dimensional statistical applications as they allow one to easily model and estimate the distribution of random vectors by estimating marginals and copulae separately. There are many parametric copula families available, which usually have parameters that control the strength of dependence\n",
    "\n",
    "As an example, will focus on the Archimedean family of copulae, specfically the Gumbel copula. The basic idea behind the copula is that you can represent each marginal as a uniform random variable. In general, a copula ($C$) takes the following form:\n",
    "\n",
    "$$C(u_1,u_2,\\dots,u_d)=\\mathbb{P}[U_1\\leq u_1,U_2\\leq u_2,\\dots,U_d\\leq u_d]$$\n",
    "\n",
    "Thus given two uniform random variables we can estimate the probability using the Copula function definition. Specifically, the Gumbel copula takes the bivariate form:\n",
    "\n",
    "$$\n",
    "\\exp\\!\\left( -\\left( (-\\log(u))^\\theta + (-\\log(v))^\\theta \\right)^{1/\\theta} \\right)\n",
    "$$\n",
    "\n",
    "For example, suppose we want to simulate correlated random walks for Dow Jones and S&P Index. Note the Gumbel copula equation has one parameter, theta (u and v are the marginal uniform distributions of DJI and SP). We can use the python library ambhas to estimate theta for our empirical relationship, which allows us to simulate correlated changes in each stock.\n",
    "\n",
    "To start the simulation process, we have to download data for the stocks in question. We can do this by downloading intraday stock data from Google Finance and then estimate the copula from the empirical distributions:"
   ]
  },
  {
   "cell_type": "code",
   "execution_count": null,
   "metadata": {
    "collapsed": false
   },
   "outputs": [],
   "source": [
    "import intraday\n",
    "import pandas as pd\n",
    "import numpy as np\n",
    "from ambhas.copula import Copula\n",
    " \n",
    "base = \".DJI\"\n",
    "hedge = \".INX\"\n",
    " \n",
    "interval = 60\n",
    "window = 15\n",
    " \n",
    "x = intraday.get_google_data(base, interval, window)\n",
    "y = intraday.get_google_data(hedge, interval, window)\n",
    "\n",
    "# merge data and convert to log differences\n",
    "combo = pd.merge(x[['c']], y[['c']], right_index = True, left_index = True)\n",
    "logs = np.log(combo)\n",
    "logs = logs.diff().dropna()\n",
    " \n",
    "gumbel = Copula(logs['c_x'], logs['c_y'], 'gumbel') # estimate the copula param\n",
    " \n",
    "x_sim,y_sim = gumbel.generate_xy(50000)             # this does the simulation"
   ]
  },
  {
   "cell_type": "markdown",
   "metadata": {
    "collapsed": true
   },
   "source": [
    "Now x_sim and y_sim are simulated log changes in DJI and SP, respectively. Thus we can use the exponential function in numpy to convert these changes back into realistic looking prices:"
   ]
  },
  {
   "cell_type": "code",
   "execution_count": null,
   "metadata": {
    "collapsed": false
   },
   "outputs": [],
   "source": [
    "scatter(x_sim, y_sim)"
   ]
  },
  {
   "cell_type": "code",
   "execution_count": null,
   "metadata": {
    "collapsed": true
   },
   "outputs": [],
   "source": [
    "#x_sum = x['c'].values[-1] * np.exp(x_sim.cumsum())\n",
    "#y_sum = y['c'].values[-1] * np.exp(y_sim.cumsum())\n",
    "\n",
    "x_sum = 100 * np.exp(x_sim.cumsum())\n",
    "y_sum = 100 * np.exp(y_sim.cumsum())"
   ]
  },
  {
   "cell_type": "markdown",
   "metadata": {},
   "source": [
    "This uses the last price from the empirical data series as the starting price for each stock in our simulated random walks. Now we can plot the two and get a realistic looking graph:"
   ]
  },
  {
   "cell_type": "code",
   "execution_count": null,
   "metadata": {
    "collapsed": false
   },
   "outputs": [],
   "source": [
    "%matplotlib inline\n",
    "import matplotlib.pyplot as plt\n",
    "\n",
    "plt.plot(x_sum)\n",
    "plt.plot(y_sum)"
   ]
  },
  {
   "cell_type": "markdown",
   "metadata": {},
   "source": [
    "The ambhas library has a number of dependencies you should make sure are installed before using the code above. These dependencies are described here. N. B.: we had to uninstall our current python statistics module and re-install using the instructions here. Otherwise you might get an error like “could not find cpdf in module” or some such. Making sure you have all dependencies installed should resolve this."
   ]
  }
 ],
 "metadata": {
  "kernelspec": {
   "display_name": "Python 2",
   "language": "python",
   "name": "python2"
  },
  "language_info": {
   "codemirror_mode": {
    "name": "ipython",
    "version": 2
   },
   "file_extension": ".py",
   "mimetype": "text/x-python",
   "name": "python",
   "nbconvert_exporter": "python",
   "pygments_lexer": "ipython2",
   "version": "2.7.10"
  }
 },
 "nbformat": 4,
 "nbformat_minor": 0
}
